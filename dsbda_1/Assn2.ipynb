{
 "cells": [
  {
   "cell_type": "code",
   "execution_count": 1,
   "id": "f3089dfd",
   "metadata": {},
   "outputs": [
    {
     "name": "stdout",
     "output_type": "stream",
     "text": [
      "Dataset loaded successfully.\n"
     ]
    }
   ],
   "source": [
    "# Step 1: Import required libraries\n",
    "import pandas as pd\n",
    "import numpy as np\n",
    "import matplotlib.pyplot as plt\n",
    "import seaborn as sns\n",
    "\n",
    "# Load the dataset\n",
    "df = pd.read_csv(r\"C:\\Users\\RIBBONS\\Downloads\\student.csv\")  # Ensure this file exists in the working directory\n",
    "print(\"Dataset loaded successfully.\")\n"
   ]
  },
  {
   "cell_type": "code",
   "execution_count": 2,
   "id": "1e9e50c8",
   "metadata": {},
   "outputs": [
    {
     "data": {
      "text/html": [
       "<div>\n",
       "<style scoped>\n",
       "    .dataframe tbody tr th:only-of-type {\n",
       "        vertical-align: middle;\n",
       "    }\n",
       "\n",
       "    .dataframe tbody tr th {\n",
       "        vertical-align: top;\n",
       "    }\n",
       "\n",
       "    .dataframe thead th {\n",
       "        text-align: right;\n",
       "    }\n",
       "</style>\n",
       "<table border=\"1\" class=\"dataframe\">\n",
       "  <thead>\n",
       "    <tr style=\"text-align: right;\">\n",
       "      <th></th>\n",
       "      <th>Name</th>\n",
       "      <th>Age</th>\n",
       "      <th>Gender</th>\n",
       "      <th>Math_score</th>\n",
       "      <th>Science_score</th>\n",
       "      <th>PG</th>\n",
       "    </tr>\n",
       "  </thead>\n",
       "  <tbody>\n",
       "    <tr>\n",
       "      <th>0</th>\n",
       "      <td>Alice</td>\n",
       "      <td>21</td>\n",
       "      <td>Female</td>\n",
       "      <td>85.0</td>\n",
       "      <td>78.0</td>\n",
       "      <td>Yes</td>\n",
       "    </tr>\n",
       "    <tr>\n",
       "      <th>1</th>\n",
       "      <td>Bob</td>\n",
       "      <td>22</td>\n",
       "      <td>Male</td>\n",
       "      <td>78.0</td>\n",
       "      <td>72.0</td>\n",
       "      <td>No</td>\n",
       "    </tr>\n",
       "    <tr>\n",
       "      <th>2</th>\n",
       "      <td>Charlie</td>\n",
       "      <td>20</td>\n",
       "      <td>Male</td>\n",
       "      <td>92.0</td>\n",
       "      <td>NaN</td>\n",
       "      <td>Yes</td>\n",
       "    </tr>\n",
       "    <tr>\n",
       "      <th>3</th>\n",
       "      <td>David</td>\n",
       "      <td>23</td>\n",
       "      <td>Male</td>\n",
       "      <td>88.0</td>\n",
       "      <td>85.0</td>\n",
       "      <td>No</td>\n",
       "    </tr>\n",
       "    <tr>\n",
       "      <th>4</th>\n",
       "      <td>Eva</td>\n",
       "      <td>21</td>\n",
       "      <td>Female</td>\n",
       "      <td>NaN</td>\n",
       "      <td>90.0</td>\n",
       "      <td>Yes</td>\n",
       "    </tr>\n",
       "    <tr>\n",
       "      <th>5</th>\n",
       "      <td>Frank</td>\n",
       "      <td>22</td>\n",
       "      <td>Male</td>\n",
       "      <td>75.0</td>\n",
       "      <td>70.0</td>\n",
       "      <td>No</td>\n",
       "    </tr>\n",
       "    <tr>\n",
       "      <th>6</th>\n",
       "      <td>Grace</td>\n",
       "      <td>20</td>\n",
       "      <td>Female</td>\n",
       "      <td>89.0</td>\n",
       "      <td>84.0</td>\n",
       "      <td>Yes</td>\n",
       "    </tr>\n",
       "    <tr>\n",
       "      <th>7</th>\n",
       "      <td>Hannah</td>\n",
       "      <td>23</td>\n",
       "      <td>Female</td>\n",
       "      <td>94.0</td>\n",
       "      <td>88.0</td>\n",
       "      <td>Yes</td>\n",
       "    </tr>\n",
       "    <tr>\n",
       "      <th>8</th>\n",
       "      <td>Ivan</td>\n",
       "      <td>21</td>\n",
       "      <td>Male</td>\n",
       "      <td>65.0</td>\n",
       "      <td>60.0</td>\n",
       "      <td>No</td>\n",
       "    </tr>\n",
       "    <tr>\n",
       "      <th>9</th>\n",
       "      <td>Judy</td>\n",
       "      <td>22</td>\n",
       "      <td>Female</td>\n",
       "      <td>80.0</td>\n",
       "      <td>NaN</td>\n",
       "      <td>Yes</td>\n",
       "    </tr>\n",
       "  </tbody>\n",
       "</table>\n",
       "</div>"
      ],
      "text/plain": [
       "      Name  Age  Gender  Math_score  Science_score   PG\n",
       "0    Alice   21  Female        85.0           78.0  Yes\n",
       "1      Bob   22    Male        78.0           72.0   No\n",
       "2  Charlie   20    Male        92.0            NaN  Yes\n",
       "3    David   23    Male        88.0           85.0   No\n",
       "4      Eva   21  Female         NaN           90.0  Yes\n",
       "5    Frank   22    Male        75.0           70.0   No\n",
       "6    Grace   20  Female        89.0           84.0  Yes\n",
       "7   Hannah   23  Female        94.0           88.0  Yes\n",
       "8     Ivan   21    Male        65.0           60.0   No\n",
       "9     Judy   22  Female        80.0            NaN  Yes"
      ]
     },
     "execution_count": 2,
     "metadata": {},
     "output_type": "execute_result"
    }
   ],
   "source": [
    "df"
   ]
  },
  {
   "cell_type": "code",
   "execution_count": 3,
   "id": "56633f53",
   "metadata": {},
   "outputs": [
    {
     "name": "stdout",
     "output_type": "stream",
     "text": [
      "\n",
      "Missing Values in Dataset:\n",
      "Name             0\n",
      "Age              0\n",
      "Gender           0\n",
      "Math_score       1\n",
      "Science_score    2\n",
      "PG               0\n",
      "dtype: int64\n",
      "\n",
      "Statistical Information:\n",
      "       Name        Age  Gender  Math_score  Science_score   PG\n",
      "count    10  10.000000      10    9.000000       8.000000   10\n",
      "unique   10        NaN       2         NaN            NaN    2\n",
      "top     Bob        NaN  Female         NaN            NaN  Yes\n",
      "freq      1        NaN       5         NaN            NaN    6\n",
      "mean    NaN  21.500000     NaN   82.888889      78.375000  NaN\n",
      "std     NaN   1.080123     NaN    9.279607      10.363914  NaN\n",
      "min     NaN  20.000000     NaN   65.000000      60.000000  NaN\n",
      "25%     NaN  21.000000     NaN   78.000000      71.500000  NaN\n",
      "50%     NaN  21.500000     NaN   85.000000      81.000000  NaN\n",
      "75%     NaN  22.000000     NaN   89.000000      85.750000  NaN\n",
      "max     NaN  23.000000     NaN   94.000000      90.000000  NaN\n"
     ]
    }
   ],
   "source": [
    "# Step 2: Data Preprocessing\n",
    "# Find missing values\n",
    "print(\"\\nMissing Values in Dataset:\")\n",
    "print(df.isnull().sum())\n",
    "\n",
    "# Display basic statistical information\n",
    "print(\"\\nStatistical Information:\")\n",
    "print(df.describe(include='all'))\n",
    "\n"
   ]
  },
  {
   "cell_type": "code",
   "execution_count": 4,
   "id": "b49ab19f",
   "metadata": {},
   "outputs": [
    {
     "name": "stdout",
     "output_type": "stream",
     "text": [
      "\n",
      "Variable Types:\n",
      "Name              object\n",
      "Age                int64\n",
      "Gender            object\n",
      "Math_score       float64\n",
      "Science_score    float64\n",
      "PG                object\n",
      "dtype: object\n",
      "\n",
      "Shape of the Dataset:\n",
      "(10, 6)\n"
     ]
    }
   ],
   "source": [
    "# Step 3: Variable descriptions and data frame dimensions\n",
    "print(\"\\nVariable Types:\")\n",
    "print(df.dtypes)\n",
    "\n",
    "print(\"\\nShape of the Dataset:\")\n",
    "print(df.shape)\n"
   ]
  },
  {
   "cell_type": "code",
   "execution_count": 5,
   "id": "a61f5836",
   "metadata": {},
   "outputs": [
    {
     "data": {
      "image/png": "[encoded data removed]",
      "text/plain": [
       "<Figure size 432x288 with 1 Axes>"
      ]
     },
     "metadata": {
      "needs_background": "light"
     },
     "output_type": "display_data"
    }
   ],
   "source": [
    "# Step 4: Data Normalization using Min-Max\n",
    "# Choose a numeric column, e.g., 'Math_score'\n",
    "if 'Math_score' in df.columns:\n",
    "    df['Math_score_Normalized'] = (df['Math_score'] - df['Math_score'].min()) / (df['Math_score'].max() - df['Math_score'].min())\n",
    "\n",
    "    # Boxplot\n",
    "    plt.figure(figsize=(6, 4))\n",
    "    sns.boxplot(x=df['Math_score_Normalized'])\n",
    "    plt.title(\"Boxplot of Normalized Math_score\")\n",
    "    plt.show()\n",
    "else:\n",
    "    print(\"Column 'Math_score' not found for normalization.\")\n"
   ]
  },
  {
   "cell_type": "code",
   "execution_count": 6,
   "id": "23c06eb7",
   "metadata": {},
   "outputs": [
    {
     "name": "stdout",
     "output_type": "stream",
     "text": [
      "\n",
      "PG column converted to numerical:\n",
      "    PG  PG_Quant\n",
      "0  Yes         1\n",
      "1   No         0\n",
      "2  Yes         1\n",
      "3   No         0\n",
      "4  Yes         1\n"
     ]
    }
   ],
   "source": [
    "# Step 5: Turn Categorical Variables for PG column into Quantitative\n",
    "# Assume 'PG' has values like 'Yes', 'No'\n",
    "if 'PG' in df.columns:\n",
    "    df['PG_Quant'] = df['PG'].map({'Yes': 1, 'No': 0})\n",
    "    print(\"\\nPG column converted to numerical:\")\n",
    "    print(df[['PG', 'PG_Quant']].head())\n",
    "else:\n",
    "    print(\"Column 'PG' not found.\")\n"
   ]
  },
  {
   "cell_type": "code",
   "execution_count": null,
   "id": "def48916",
   "metadata": {},
   "outputs": [],
   "source": []
  }
 ],
 "metadata": {
  "kernelspec": {
   "display_name": "Python 3",
   "language": "python",
   "name": "python3"
  },
  "language_info": {
   "codemirror_mode": {
    "name": "ipython",
    "version": 3
   },
   "file_extension": ".py",
   "mimetype": "text/x-python",
   "name": "python",
   "nbconvert_exporter": "python",
   "pygments_lexer": "ipython3",
   "version": "3.8.8"
  }
 },
 "nbformat": 4,
 "nbformat_minor": 5
}
